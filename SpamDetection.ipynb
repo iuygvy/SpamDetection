{
 "cells": [
  {
   "cell_type": "markdown",
   "id": "32b16e8e",
   "metadata": {},
   "source": [
    "# System wykrywania spamu w wiadomościach e-mail\n",
    "\n",
    "W tym notebooku wczytujemy dane - przykładowe e-maile klasyfikowane jako spam lub nie-spam. Na podstawie tych danych trenujemy system, który będzie wykrywał, czy dana wiadomość jest spamem czy nie."
   ]
  },
  {
   "cell_type": "markdown",
   "id": "9d7ad969",
   "metadata": {},
   "source": [
    "Zacznijmy od zainstalowania wymaganych bibliotek."
   ]
  },
  {
   "cell_type": "code",
   "execution_count": 3,
   "id": "bec588a9",
   "metadata": {},
   "outputs": [
    {
     "name": "stdout",
     "output_type": "stream",
     "text": [
      "Requirement already satisfied: tensorflow in c:\\users\\fatch\\appdata\\local\\programs\\python\\python310\\lib\\site-packages (from -r requirements.txt (line 1)) (2.10.1)\n",
      "Requirement already satisfied: numpy in c:\\users\\fatch\\appdata\\local\\programs\\python\\python310\\lib\\site-packages (from -r requirements.txt (line 2)) (1.24.4)\n",
      "Requirement already satisfied: scikit-learn in c:\\users\\fatch\\appdata\\local\\programs\\python\\python310\\lib\\site-packages (from -r requirements.txt (line 3)) (1.7.0)\n",
      "Requirement already satisfied: pandas in c:\\users\\fatch\\appdata\\local\\programs\\python\\python310\\lib\\site-packages (from -r requirements.txt (line 4)) (2.3.0)\n",
      "Requirement already satisfied: matplotlib in c:\\users\\fatch\\appdata\\local\\programs\\python\\python310\\lib\\site-packages (from -r requirements.txt (line 5)) (3.10.3)\n",
      "Requirement already satisfied: seaborn in c:\\users\\fatch\\appdata\\local\\programs\\python\\python310\\lib\\site-packages (from -r requirements.txt (line 6)) (0.13.2)\n",
      "Requirement already satisfied: keras_tuner in c:\\users\\fatch\\appdata\\local\\programs\\python\\python310\\lib\\site-packages (from -r requirements.txt (line 7)) (1.4.7)\n",
      "Requirement already satisfied: absl-py>=1.0.0 in c:\\users\\fatch\\appdata\\local\\programs\\python\\python310\\lib\\site-packages (from tensorflow->-r requirements.txt (line 1)) (2.3.0)\n",
      "Requirement already satisfied: astunparse>=1.6.0 in c:\\users\\fatch\\appdata\\local\\programs\\python\\python310\\lib\\site-packages (from tensorflow->-r requirements.txt (line 1)) (1.6.3)\n",
      "Requirement already satisfied: flatbuffers>=2.0 in c:\\users\\fatch\\appdata\\local\\programs\\python\\python310\\lib\\site-packages (from tensorflow->-r requirements.txt (line 1)) (25.2.10)\n",
      "Requirement already satisfied: gast<=0.4.0,>=0.2.1 in c:\\users\\fatch\\appdata\\local\\programs\\python\\python310\\lib\\site-packages (from tensorflow->-r requirements.txt (line 1)) (0.4.0)\n",
      "Requirement already satisfied: google-pasta>=0.1.1 in c:\\users\\fatch\\appdata\\local\\programs\\python\\python310\\lib\\site-packages (from tensorflow->-r requirements.txt (line 1)) (0.2.0)\n",
      "Requirement already satisfied: h5py>=2.9.0 in c:\\users\\fatch\\appdata\\local\\programs\\python\\python310\\lib\\site-packages (from tensorflow->-r requirements.txt (line 1)) (3.14.0)\n",
      "Requirement already satisfied: keras-preprocessing>=1.1.1 in c:\\users\\fatch\\appdata\\local\\programs\\python\\python310\\lib\\site-packages (from tensorflow->-r requirements.txt (line 1)) (1.1.2)\n",
      "Requirement already satisfied: libclang>=13.0.0 in c:\\users\\fatch\\appdata\\local\\programs\\python\\python310\\lib\\site-packages (from tensorflow->-r requirements.txt (line 1)) (18.1.1)\n",
      "Requirement already satisfied: opt-einsum>=2.3.2 in c:\\users\\fatch\\appdata\\local\\programs\\python\\python310\\lib\\site-packages (from tensorflow->-r requirements.txt (line 1)) (3.4.0)\n",
      "Requirement already satisfied: packaging in c:\\users\\fatch\\appdata\\local\\programs\\python\\python310\\lib\\site-packages (from tensorflow->-r requirements.txt (line 1)) (25.0)\n",
      "Requirement already satisfied: protobuf<3.20,>=3.9.2 in c:\\users\\fatch\\appdata\\local\\programs\\python\\python310\\lib\\site-packages (from tensorflow->-r requirements.txt (line 1)) (3.19.6)\n",
      "Requirement already satisfied: setuptools in c:\\users\\fatch\\appdata\\local\\programs\\python\\python310\\lib\\site-packages (from tensorflow->-r requirements.txt (line 1)) (65.5.0)\n",
      "Requirement already satisfied: six>=1.12.0 in c:\\users\\fatch\\appdata\\local\\programs\\python\\python310\\lib\\site-packages (from tensorflow->-r requirements.txt (line 1)) (1.17.0)\n",
      "Requirement already satisfied: termcolor>=1.1.0 in c:\\users\\fatch\\appdata\\local\\programs\\python\\python310\\lib\\site-packages (from tensorflow->-r requirements.txt (line 1)) (3.1.0)\n",
      "Requirement already satisfied: typing-extensions>=3.6.6 in c:\\users\\fatch\\appdata\\local\\programs\\python\\python310\\lib\\site-packages (from tensorflow->-r requirements.txt (line 1)) (4.14.0)\n",
      "Requirement already satisfied: wrapt>=1.11.0 in c:\\users\\fatch\\appdata\\local\\programs\\python\\python310\\lib\\site-packages (from tensorflow->-r requirements.txt (line 1)) (1.17.2)\n",
      "Requirement already satisfied: tensorflow-io-gcs-filesystem>=0.23.1 in c:\\users\\fatch\\appdata\\local\\programs\\python\\python310\\lib\\site-packages (from tensorflow->-r requirements.txt (line 1)) (0.31.0)\n",
      "Requirement already satisfied: grpcio<2.0,>=1.24.3 in c:\\users\\fatch\\appdata\\local\\programs\\python\\python310\\lib\\site-packages (from tensorflow->-r requirements.txt (line 1)) (1.73.0)\n",
      "Requirement already satisfied: tensorboard<2.11,>=2.10 in c:\\users\\fatch\\appdata\\local\\programs\\python\\python310\\lib\\site-packages (from tensorflow->-r requirements.txt (line 1)) (2.10.1)\n",
      "Requirement already satisfied: tensorflow-estimator<2.11,>=2.10.0 in c:\\users\\fatch\\appdata\\local\\programs\\python\\python310\\lib\\site-packages (from tensorflow->-r requirements.txt (line 1)) (2.10.0)\n",
      "Requirement already satisfied: keras<2.11,>=2.10.0 in c:\\users\\fatch\\appdata\\local\\programs\\python\\python310\\lib\\site-packages (from tensorflow->-r requirements.txt (line 1)) (2.10.0)\n",
      "Requirement already satisfied: google-auth<3,>=1.6.3 in c:\\users\\fatch\\appdata\\local\\programs\\python\\python310\\lib\\site-packages (from tensorboard<2.11,>=2.10->tensorflow->-r requirements.txt (line 1)) (2.40.3)\n",
      "Requirement already satisfied: google-auth-oauthlib<0.5,>=0.4.1 in c:\\users\\fatch\\appdata\\local\\programs\\python\\python310\\lib\\site-packages (from tensorboard<2.11,>=2.10->tensorflow->-r requirements.txt (line 1)) (0.4.6)\n",
      "Requirement already satisfied: markdown>=2.6.8 in c:\\users\\fatch\\appdata\\local\\programs\\python\\python310\\lib\\site-packages (from tensorboard<2.11,>=2.10->tensorflow->-r requirements.txt (line 1)) (3.8)\n",
      "Requirement already satisfied: requests<3,>=2.21.0 in c:\\users\\fatch\\appdata\\local\\programs\\python\\python310\\lib\\site-packages (from tensorboard<2.11,>=2.10->tensorflow->-r requirements.txt (line 1)) (2.32.4)\n",
      "Requirement already satisfied: tensorboard-data-server<0.7.0,>=0.6.0 in c:\\users\\fatch\\appdata\\local\\programs\\python\\python310\\lib\\site-packages (from tensorboard<2.11,>=2.10->tensorflow->-r requirements.txt (line 1)) (0.6.1)\n",
      "Requirement already satisfied: tensorboard-plugin-wit>=1.6.0 in c:\\users\\fatch\\appdata\\local\\programs\\python\\python310\\lib\\site-packages (from tensorboard<2.11,>=2.10->tensorflow->-r requirements.txt (line 1)) (1.8.1)\n",
      "Requirement already satisfied: werkzeug>=1.0.1 in c:\\users\\fatch\\appdata\\local\\programs\\python\\python310\\lib\\site-packages (from tensorboard<2.11,>=2.10->tensorflow->-r requirements.txt (line 1)) (3.1.3)\n",
      "Requirement already satisfied: wheel>=0.26 in c:\\users\\fatch\\appdata\\local\\programs\\python\\python310\\lib\\site-packages (from tensorboard<2.11,>=2.10->tensorflow->-r requirements.txt (line 1)) (0.45.1)\n",
      "Requirement already satisfied: cachetools<6.0,>=2.0.0 in c:\\users\\fatch\\appdata\\local\\programs\\python\\python310\\lib\\site-packages (from google-auth<3,>=1.6.3->tensorboard<2.11,>=2.10->tensorflow->-r requirements.txt (line 1)) (5.5.2)\n",
      "Requirement already satisfied: pyasn1-modules>=0.2.1 in c:\\users\\fatch\\appdata\\local\\programs\\python\\python310\\lib\\site-packages (from google-auth<3,>=1.6.3->tensorboard<2.11,>=2.10->tensorflow->-r requirements.txt (line 1)) (0.4.2)\n",
      "Requirement already satisfied: rsa<5,>=3.1.4 in c:\\users\\fatch\\appdata\\local\\programs\\python\\python310\\lib\\site-packages (from google-auth<3,>=1.6.3->tensorboard<2.11,>=2.10->tensorflow->-r requirements.txt (line 1)) (4.9.1)\n",
      "Requirement already satisfied: requests-oauthlib>=0.7.0 in c:\\users\\fatch\\appdata\\local\\programs\\python\\python310\\lib\\site-packages (from google-auth-oauthlib<0.5,>=0.4.1->tensorboard<2.11,>=2.10->tensorflow->-r requirements.txt (line 1)) (2.0.0)\n",
      "Requirement already satisfied: charset_normalizer<4,>=2 in c:\\users\\fatch\\appdata\\local\\programs\\python\\python310\\lib\\site-packages (from requests<3,>=2.21.0->tensorboard<2.11,>=2.10->tensorflow->-r requirements.txt (line 1)) (3.4.2)\n",
      "Requirement already satisfied: idna<4,>=2.5 in c:\\users\\fatch\\appdata\\local\\programs\\python\\python310\\lib\\site-packages (from requests<3,>=2.21.0->tensorboard<2.11,>=2.10->tensorflow->-r requirements.txt (line 1)) (3.10)\n",
      "Requirement already satisfied: urllib3<3,>=1.21.1 in c:\\users\\fatch\\appdata\\local\\programs\\python\\python310\\lib\\site-packages (from requests<3,>=2.21.0->tensorboard<2.11,>=2.10->tensorflow->-r requirements.txt (line 1)) (2.4.0)\n",
      "Requirement already satisfied: certifi>=2017.4.17 in c:\\users\\fatch\\appdata\\local\\programs\\python\\python310\\lib\\site-packages (from requests<3,>=2.21.0->tensorboard<2.11,>=2.10->tensorflow->-r requirements.txt (line 1)) (2025.6.15)\n",
      "Requirement already satisfied: pyasn1>=0.1.3 in c:\\users\\fatch\\appdata\\local\\programs\\python\\python310\\lib\\site-packages (from rsa<5,>=3.1.4->google-auth<3,>=1.6.3->tensorboard<2.11,>=2.10->tensorflow->-r requirements.txt (line 1)) (0.6.1)\n",
      "Requirement already satisfied: scipy>=1.8.0 in c:\\users\\fatch\\appdata\\local\\programs\\python\\python310\\lib\\site-packages (from scikit-learn->-r requirements.txt (line 3)) (1.15.3)\n",
      "Requirement already satisfied: joblib>=1.2.0 in c:\\users\\fatch\\appdata\\local\\programs\\python\\python310\\lib\\site-packages (from scikit-learn->-r requirements.txt (line 3)) (1.5.1)\n",
      "Requirement already satisfied: threadpoolctl>=3.1.0 in c:\\users\\fatch\\appdata\\local\\programs\\python\\python310\\lib\\site-packages (from scikit-learn->-r requirements.txt (line 3)) (3.6.0)\n",
      "Requirement already satisfied: python-dateutil>=2.8.2 in c:\\users\\fatch\\appdata\\local\\programs\\python\\python310\\lib\\site-packages (from pandas->-r requirements.txt (line 4)) (2.9.0.post0)\n",
      "Requirement already satisfied: pytz>=2020.1 in c:\\users\\fatch\\appdata\\local\\programs\\python\\python310\\lib\\site-packages (from pandas->-r requirements.txt (line 4)) (2025.2)\n",
      "Requirement already satisfied: tzdata>=2022.7 in c:\\users\\fatch\\appdata\\local\\programs\\python\\python310\\lib\\site-packages (from pandas->-r requirements.txt (line 4)) (2025.2)\n",
      "Requirement already satisfied: contourpy>=1.0.1 in c:\\users\\fatch\\appdata\\local\\programs\\python\\python310\\lib\\site-packages (from matplotlib->-r requirements.txt (line 5)) (1.3.2)\n",
      "Requirement already satisfied: cycler>=0.10 in c:\\users\\fatch\\appdata\\local\\programs\\python\\python310\\lib\\site-packages (from matplotlib->-r requirements.txt (line 5)) (0.12.1)\n",
      "Requirement already satisfied: fonttools>=4.22.0 in c:\\users\\fatch\\appdata\\local\\programs\\python\\python310\\lib\\site-packages (from matplotlib->-r requirements.txt (line 5)) (4.58.4)\n",
      "Requirement already satisfied: kiwisolver>=1.3.1 in c:\\users\\fatch\\appdata\\local\\programs\\python\\python310\\lib\\site-packages (from matplotlib->-r requirements.txt (line 5)) (1.4.8)\n",
      "Requirement already satisfied: pillow>=8 in c:\\users\\fatch\\appdata\\local\\programs\\python\\python310\\lib\\site-packages (from matplotlib->-r requirements.txt (line 5)) (11.2.1)\n",
      "Requirement already satisfied: pyparsing>=2.3.1 in c:\\users\\fatch\\appdata\\local\\programs\\python\\python310\\lib\\site-packages (from matplotlib->-r requirements.txt (line 5)) (3.2.3)\n",
      "Requirement already satisfied: kt-legacy in c:\\users\\fatch\\appdata\\local\\programs\\python\\python310\\lib\\site-packages (from keras_tuner->-r requirements.txt (line 7)) (1.0.5)\n",
      "Requirement already satisfied: oauthlib>=3.0.0 in c:\\users\\fatch\\appdata\\local\\programs\\python\\python310\\lib\\site-packages (from requests-oauthlib>=0.7.0->google-auth-oauthlib<0.5,>=0.4.1->tensorboard<2.11,>=2.10->tensorflow->-r requirements.txt (line 1)) (3.2.2)\n",
      "Requirement already satisfied: MarkupSafe>=2.1.1 in c:\\users\\fatch\\appdata\\local\\programs\\python\\python310\\lib\\site-packages (from werkzeug>=1.0.1->tensorboard<2.11,>=2.10->tensorflow->-r requirements.txt (line 1)) (3.0.2)\n",
      "Note: you may need to restart the kernel to use updated packages.\n"
     ]
    }
   ],
   "source": [
    "%pip install -r requirements.txt"
   ]
  },
  {
   "cell_type": "markdown",
   "id": "83e7c897",
   "metadata": {},
   "source": [
    "Następnie importujemy potrzebne moduły."
   ]
  },
  {
   "cell_type": "code",
   "execution_count": 2,
   "id": "37b49077",
   "metadata": {},
   "outputs": [],
   "source": [
    "import pandas as pd\n",
    "import numpy as np\n",
    "from sklearn.model_selection import train_test_split\n",
    "from sklearn.preprocessing import LabelEncoder\n",
    "from sklearn.metrics import classification_report, confusion_matrix, accuracy_score\n",
    "import matplotlib.pyplot as plt\n",
    "import seaborn as sns\n",
    "from tensorflow.keras.preprocessing.text import Tokenizer\n",
    "from tensorflow.keras.preprocessing.sequence import pad_sequences\n",
    "from tensorflow.keras.models import Model\n",
    "from tensorflow.keras.layers import Embedding, Dense, Dropout, Conv1D, MaxPooling1D, Flatten, Input, Concatenate\n",
    "from tensorflow.keras.callbacks import EarlyStopping, ReduceLROnPlateau\n",
    "from tensorflow.keras import regularizers\n",
    "import keras_tuner as kt\n",
    "import string\n",
    "import requests\n",
    "import zipfile\n",
    "import io\n",
    "import pickle\n",
    "import json"
   ]
  },
  {
   "cell_type": "markdown",
   "id": "06c94f82",
   "metadata": {},
   "source": [
    "# Wczytanie danych\n",
    "\n",
    "Wczytujemy dane z pliku \"enron_spam_data.csv\", z archiwum na githubie. Plik ten zawiera ponad 30 tysięcy wiadomości e-mail."
   ]
  },
  {
   "cell_type": "code",
   "execution_count": 3,
   "id": "9c5bf0d4",
   "metadata": {},
   "outputs": [
    {
     "name": "stdout",
     "output_type": "stream",
     "text": [
      "Wczytano 33345 wiadomości e-mail, w tym 16852 spam oraz 16493 nie-spam.\n"
     ]
    }
   ],
   "source": [
    "url = \"https://github.com/MWiechmann/enron_spam_data/raw/master/enron_spam_data.zip\"\n",
    "response = requests.get(url)\n",
    "\n",
    "with zipfile.ZipFile(io.BytesIO(response.content)) as z:\n",
    "    with z.open('enron_spam_data.csv') as f:\n",
    "        df = pd.read_csv(f)\n",
    "\n",
    "df.dropna(subset=[\"Message\"], inplace=True)\n",
    "\n",
    "print(\"Wczytano\", df[\"Message\"].count(), \"wiadomości e-mail, w tym\", end=\" \")\n",
    "print(df[\"Spam/Ham\"].value_counts()[\"spam\"], \"spam oraz\", df[\"Spam/Ham\"].value_counts()[\"ham\"], \"nie-spam.\")"
   ]
  },
  {
   "cell_type": "markdown",
   "id": "9aeb388a",
   "metadata": {},
   "source": [
    "# Przygotowanie danych do treningu"
   ]
  },
  {
   "cell_type": "markdown",
   "id": "b9cb170d",
   "metadata": {},
   "source": [
    "Tworzymy cechy oparte na liczbach (metadane), takie jak liczba słów, liczba wykrzykników czy liczba znaków specjalnych."
   ]
  },
  {
   "cell_type": "code",
   "execution_count": 4,
   "id": "df453bc1",
   "metadata": {},
   "outputs": [],
   "source": [
    "df[\"MsgLength\"] = df[\"Message\"].fillna(\"\").apply(len)\n",
    "df[\"SpecialCharCount\"] = df[\"Message\"].apply(lambda x: sum(1 for c in x if c in string.punctuation))\n",
    "df[\"DigitCount\"] = df[\"Message\"].str.count(r\"\\d\")\n",
    "df[\"WordCount\"] = df[\"Message\"].apply(lambda x: len(x.split()))\n",
    "\n",
    "X_meta = df[[\"MsgLength\", \"SpecialCharCount\", \"DigitCount\", \"WordCount\"]].values\n",
    "\n",
    "df[\"Label\"] = df[\"Spam/Ham\"].map({\"ham\": 0, \"spam\": 1})"
   ]
  },
  {
   "cell_type": "code",
   "execution_count": 5,
   "id": "3d2ed256",
   "metadata": {},
   "outputs": [
    {
     "data": {
      "image/png": "[encoded data removed]",
      "text/plain": [
       "<Figure size 1200x600 with 1 Axes>"
      ]
     },
     "metadata": {},
     "output_type": "display_data"
    }
   ],
   "source": [
    "msg_lengths = df[\"Message\"].fillna(\"\").apply(len)\n",
    "\n",
    "filtered_lengths = msg_lengths[msg_lengths < 5000]\n",
    "\n",
    "plt.figure(figsize=(12, 6))\n",
    "sns.histplot(filtered_lengths, bins=100, color=\"mediumseagreen\")\n",
    "\n",
    "plt.title(\"Rozkład długości wiadomości (ucięty do 5000 znaków)\")\n",
    "plt.xlabel(\"Długość wiadomości (znaki)\")\n",
    "plt.ylabel(\"Liczba wiadomości\")\n",
    "plt.xticks(np.arange(0, 5100, 500))\n",
    "plt.grid(True)\n",
    "plt.tight_layout()\n",
    "plt.show()"
   ]
  },
  {
   "cell_type": "markdown",
   "id": "794039f4",
   "metadata": {},
   "source": [
    "Tokenizujemy temat i treść osobno."
   ]
  },
  {
   "cell_type": "code",
   "execution_count": 36,
   "id": "0d656a92",
   "metadata": {},
   "outputs": [],
   "source": [
    "max_len_subject = 20\n",
    "max_len_message = 200\n",
    "vocab_size = 10000\n",
    "\n",
    "tokenizer_subj = Tokenizer(num_words=vocab_size, oov_token=\"<OOV>\")\n",
    "tokenizer_msg = Tokenizer(num_words=vocab_size, oov_token=\"<OOV>\")\n",
    "\n",
    "tokenizer_subj.fit_on_texts(df[\"Subject\"].fillna(\"\"))\n",
    "tokenizer_msg.fit_on_texts(df[\"Message\"].fillna(\"\"))\n",
    "\n",
    "subj_seq = tokenizer_subj.texts_to_sequences(df[\"Subject\"].fillna(\"\"))\n",
    "msg_seq = tokenizer_msg.texts_to_sequences(df[\"Message\"].fillna(\"\"))\n",
    "\n",
    "subj_pad = pad_sequences(subj_seq, maxlen=max_len_subject, padding='post', truncating='post')\n",
    "msg_pad = pad_sequences(msg_seq, maxlen=max_len_message, padding='post', truncating='post')"
   ]
  },
  {
   "cell_type": "markdown",
   "id": "59e69c6b",
   "metadata": {},
   "source": [
    "Dzielimy zbiór na część treningową i testową."
   ]
  },
  {
   "cell_type": "code",
   "execution_count": 7,
   "id": "cef4a34c",
   "metadata": {},
   "outputs": [],
   "source": [
    "X_subj_train, X_subj_test, X_msg_train, X_msg_test, X_meta_train, X_meta_test, y_train, y_test = train_test_split(\n",
    "    subj_pad, msg_pad, X_meta, df[\"Label\"], test_size=0.2, random_state=42, stratify=df[\"Label\"]\n",
    ")"
   ]
  },
  {
   "cell_type": "markdown",
   "id": "d0d66db8",
   "metadata": {},
   "source": [
    "# Model CNN + MLP\n",
    "\n",
    "Model łączy dwa podejścia:\n",
    "- CNN (sieć konwolucyjna) - na danych tekstowych używamy warstw Embedding + Conv1D + MaxPooling1D\n",
    "- MLP (perceptron wielowarstwowy) - po konwolucji łączymy metadane z danymi tekstowymi i używamy kilka razy Dense + Dropout"
   ]
  },
  {
   "cell_type": "markdown",
   "id": "b7f30436",
   "metadata": {},
   "source": [
    "Tworzymy funkcję build_model, która będzie tworzyć modele z różnymi parametrami, w celu znalezienia najlepszego."
   ]
  },
  {
   "cell_type": "code",
   "execution_count": 8,
   "id": "a22684f6",
   "metadata": {},
   "outputs": [],
   "source": [
    "def build_model(hp):\n",
    "    input_subj = Input(shape=(max_len_subject,))\n",
    "    input_msg = Input(shape=(max_len_message,))\n",
    "    meta_input = Input(shape=(X_meta_train.shape[1],))\n",
    "    \n",
    "    embedding_dim = hp.Int('embedding_dim', 8, 64, step=8)\n",
    "\n",
    "    x_subj = Embedding(vocab_size, embedding_dim)(input_subj)\n",
    "    filters_subj = hp.Int('filters_subj', 16, 64, step=16)\n",
    "    kernel_size_subj = hp.Choice('kernel_size_subj', [3, 5])\n",
    "    x_subj = Conv1D(filters_subj, kernel_size_subj, activation='relu')(x_subj)\n",
    "    x_subj = MaxPooling1D(2)(x_subj)\n",
    "    x_subj = Flatten()(x_subj)\n",
    "\n",
    "    x_msg = Embedding(vocab_size, embedding_dim)(input_msg)\n",
    "    filters_msg = hp.Int('filters_msg', 32, 128, step=32)\n",
    "    kernel_size_msg = hp.Choice('kernel_size_msg', [3, 5])\n",
    "    x_msg = Conv1D(filters_msg, kernel_size_msg, activation='relu')(x_msg)\n",
    "    x_msg = MaxPooling1D(2)(x_msg)\n",
    "    x_msg = Flatten()(x_msg)\n",
    "\n",
    "    text_features = Concatenate()([x_subj, x_msg])\n",
    "    combined = Concatenate()([text_features, meta_input])\n",
    "\n",
    "    dense1_units = hp.Int('dense1_units', 16, 64, step=16)\n",
    "    combined = Dense(dense1_units, activation='relu', kernel_regularizer=regularizers.l2(0.0001))(combined)\n",
    "\n",
    "    dropout1_rate = hp.Float('dropout1_rate', 0.2, 0.5, step=0.1)\n",
    "    combined = Dropout(dropout1_rate)(combined)\n",
    "\n",
    "    dense2_units = hp.Int('dense2_units', 8, 32, step=8)\n",
    "    combined = Dense(dense2_units, activation='relu', kernel_regularizer=regularizers.l2(0.0001))(combined)\n",
    "    dropout2_rate = hp.Float('dropout2_rate', 0, 0.4, step=0.1)\n",
    "    combined = Dropout(dropout2_rate)(combined)\n",
    "\n",
    "    output = Dense(1, activation='sigmoid')(combined)\n",
    "\n",
    "    model = Model(inputs=[input_subj, input_msg, meta_input], outputs=output)\n",
    "    model.compile(optimizer='adam', loss='binary_crossentropy', metrics=['accuracy'])\n",
    "    return model\n",
    "\n",
    "def build_model_wrapper():\n",
    "    def model_fn(hp):\n",
    "        return build_model(hp)\n",
    "    return model_fn"
   ]
  },
  {
   "cell_type": "markdown",
   "id": "7c17b735",
   "metadata": {},
   "source": [
    "Przy użyciu keras_tuner znajdujemy najlepsze parametry dla modelu. \n",
    "\n",
    "Dodajemy callbacks:\n",
    "- ReduceLROnPlateau - delikatnie zmniejsza współczynnik uczenia, kiedy val_loss się ustabilizuje; w ten sposób osiągniemy jeszcze lepsze wyniki\n",
    "- EarlyStopping - jeśli od kilku epok model się nie poprawia, to nie ma sensu kontynuować nauki\n",
    "\n",
    "**Poniższy kod uruchamiaj tylko jeśli pobrałeś folder tuner_trials lub chcesz samemu od początku szukać najlepszych hiperparametrów (niezalecane)**"
   ]
  },
  {
   "cell_type": "code",
   "execution_count": null,
   "id": "9009d629",
   "metadata": {},
   "outputs": [
    {
     "name": "stdout",
     "output_type": "stream",
     "text": [
      "Reloading Tuner from .\\tuner_trials\\tuner0.json\n"
     ]
    }
   ],
   "source": [
    "'''\n",
    "tuner = kt.RandomSearch(\n",
    "    build_model_wrapper(),    \n",
    "    objective='val_accuracy',\n",
    "    max_trials=100,\n",
    "    executions_per_trial=2,\n",
    "    project_name='tuner_trials'\n",
    ")\n",
    "\n",
    "lr_scheduler = ReduceLROnPlateau(\n",
    "    monitor='val_loss',\n",
    "    factor=0.5,\n",
    "    patience=3,\n",
    "    min_lr=1e-6,\n",
    "    verbose=0\n",
    ")\n",
    "\n",
    "early_stop = EarlyStopping(monitor='val_loss', patience=5, restore_best_weights=True)\n",
    "\n",
    "\n",
    "tuner.search(\n",
    "    [X_subj_train, X_msg_train, X_meta_train],\n",
    "    y_train,\n",
    "    epochs=40,\n",
    "    validation_data=([X_subj_test, X_msg_test, X_meta_test], y_test),\n",
    "    batch_size=256,\n",
    "    callbacks=[early_stop, lr_scheduler]\n",
    ")\n",
    "\n",
    "best_hps = tuner.get_best_hyperparameters(1)[0]\n",
    "with open('best_hyperparameters.json', 'w') as f:\n",
    "    json.dump(best_hps.values, f, indent=4)\n",
    "'''"
   ]
  },
  {
   "cell_type": "markdown",
   "id": "261b2fae",
   "metadata": {},
   "source": [
    "Trenujemy model."
   ]
  },
  {
   "cell_type": "code",
   "execution_count": 37,
   "id": "56a2c4fb",
   "metadata": {},
   "outputs": [
    {
     "name": "stdout",
     "output_type": "stream",
     "text": [
      "Epoch 1/100\n",
      "105/105 [==============================] - 1s 8ms/step - loss: 1.2425 - accuracy: 0.5292 - val_loss: 0.5756 - val_accuracy: 0.7380 - lr: 0.0010\n",
      "Epoch 2/100\n",
      "105/105 [==============================] - 1s 7ms/step - loss: 0.3008 - accuracy: 0.8884 - val_loss: 0.0820 - val_accuracy: 0.9735 - lr: 0.0010\n",
      "Epoch 3/100\n",
      "105/105 [==============================] - 1s 7ms/step - loss: 0.1096 - accuracy: 0.9685 - val_loss: 0.0548 - val_accuracy: 0.9865 - lr: 0.0010\n",
      "Epoch 4/100\n",
      "105/105 [==============================] - 1s 7ms/step - loss: 0.0690 - accuracy: 0.9824 - val_loss: 0.0496 - val_accuracy: 0.9873 - lr: 0.0010\n",
      "Epoch 5/100\n",
      "105/105 [==============================] - 1s 7ms/step - loss: 0.0582 - accuracy: 0.9855 - val_loss: 0.0429 - val_accuracy: 0.9898 - lr: 0.0010\n",
      "Epoch 6/100\n",
      "105/105 [==============================] - 1s 7ms/step - loss: 0.0447 - accuracy: 0.9886 - val_loss: 0.0478 - val_accuracy: 0.9900 - lr: 0.0010\n",
      "Epoch 7/100\n",
      "105/105 [==============================] - 1s 7ms/step - loss: 0.0430 - accuracy: 0.9884 - val_loss: 0.0482 - val_accuracy: 0.9909 - lr: 0.0010\n",
      "Epoch 8/100\n",
      "105/105 [==============================] - 1s 7ms/step - loss: 0.0371 - accuracy: 0.9891 - val_loss: 0.0619 - val_accuracy: 0.9904 - lr: 0.0010\n",
      "Epoch 9/100\n",
      "105/105 [==============================] - 1s 7ms/step - loss: 0.0372 - accuracy: 0.9901 - val_loss: 0.0497 - val_accuracy: 0.9910 - lr: 0.0010\n",
      "Epoch 10/100\n",
      "105/105 [==============================] - 1s 7ms/step - loss: 0.0292 - accuracy: 0.9925 - val_loss: 0.0429 - val_accuracy: 0.9912 - lr: 0.0010\n",
      "Epoch 11/100\n",
      "105/105 [==============================] - 1s 7ms/step - loss: 0.0240 - accuracy: 0.9945 - val_loss: 0.0466 - val_accuracy: 0.9916 - lr: 5.0000e-04\n",
      "Epoch 12/100\n",
      "105/105 [==============================] - 1s 7ms/step - loss: 0.0209 - accuracy: 0.9947 - val_loss: 0.0499 - val_accuracy: 0.9919 - lr: 5.0000e-04\n",
      "Epoch 13/100\n",
      "105/105 [==============================] - 1s 7ms/step - loss: 0.0200 - accuracy: 0.9947 - val_loss: 0.0439 - val_accuracy: 0.9915 - lr: 5.0000e-04\n",
      "Epoch 14/100\n",
      "105/105 [==============================] - 1s 7ms/step - loss: 0.0274 - accuracy: 0.9937 - val_loss: 0.0394 - val_accuracy: 0.9924 - lr: 5.0000e-04\n",
      "Epoch 15/100\n",
      "105/105 [==============================] - 1s 7ms/step - loss: 0.0200 - accuracy: 0.9954 - val_loss: 0.0507 - val_accuracy: 0.9915 - lr: 5.0000e-04\n",
      "Epoch 16/100\n",
      "105/105 [==============================] - 1s 7ms/step - loss: 0.0172 - accuracy: 0.9951 - val_loss: 0.0472 - val_accuracy: 0.9919 - lr: 5.0000e-04\n",
      "Epoch 17/100\n",
      "105/105 [==============================] - 1s 7ms/step - loss: 0.0159 - accuracy: 0.9956 - val_loss: 0.0444 - val_accuracy: 0.9921 - lr: 5.0000e-04\n",
      "Epoch 18/100\n",
      "105/105 [==============================] - 1s 7ms/step - loss: 0.0143 - accuracy: 0.9957 - val_loss: 0.0447 - val_accuracy: 0.9921 - lr: 5.0000e-04\n",
      "Epoch 19/100\n",
      "105/105 [==============================] - 1s 7ms/step - loss: 0.0124 - accuracy: 0.9962 - val_loss: 0.0567 - val_accuracy: 0.9922 - lr: 5.0000e-04\n",
      "Epoch 20/100\n",
      "105/105 [==============================] - 1s 7ms/step - loss: 0.0158 - accuracy: 0.9961 - val_loss: 0.0732 - val_accuracy: 0.9900 - lr: 2.5000e-04\n",
      "Epoch 21/100\n",
      "105/105 [==============================] - 1s 7ms/step - loss: 0.0213 - accuracy: 0.9943 - val_loss: 0.0485 - val_accuracy: 0.9918 - lr: 2.5000e-04\n",
      "Epoch 22/100\n",
      "105/105 [==============================] - 1s 7ms/step - loss: 0.0136 - accuracy: 0.9969 - val_loss: 0.0484 - val_accuracy: 0.9919 - lr: 2.5000e-04\n",
      "Epoch 23/100\n",
      "105/105 [==============================] - 1s 7ms/step - loss: 0.0124 - accuracy: 0.9972 - val_loss: 0.0556 - val_accuracy: 0.9921 - lr: 2.5000e-04\n",
      "Epoch 24/100\n",
      "105/105 [==============================] - 1s 7ms/step - loss: 0.0113 - accuracy: 0.9979 - val_loss: 0.0519 - val_accuracy: 0.9921 - lr: 2.5000e-04\n",
      "Epoch 25/100\n",
      "105/105 [==============================] - 1s 7ms/step - loss: 0.0108 - accuracy: 0.9980 - val_loss: 0.0531 - val_accuracy: 0.9922 - lr: 1.2500e-04\n",
      "Epoch 26/100\n",
      "105/105 [==============================] - 1s 7ms/step - loss: 0.0099 - accuracy: 0.9980 - val_loss: 0.0485 - val_accuracy: 0.9922 - lr: 1.2500e-04\n"
     ]
    }
   ],
   "source": [
    "with open('best_hyperparameters.json', 'r') as f:\n",
    "    best_hps_values = json.load(f)\n",
    "best_hps = kt.HyperParameters()\n",
    "for param, value in best_hps_values.items():\n",
    "    best_hps.values[param] = value    \n",
    "\n",
    "best_model = build_model(best_hps)\n",
    "\n",
    "lr_scheduler = ReduceLROnPlateau(\n",
    "    monitor='val_loss',\n",
    "    factor=0.5,\n",
    "    patience=5,\n",
    "    min_lr=1e-6,\n",
    "    verbose=0\n",
    ")\n",
    "\n",
    "early_stop = EarlyStopping(monitor='val_loss', patience=12, restore_best_weights=True)\n",
    "\n",
    "history = best_model.fit(\n",
    "    [X_subj_train, X_msg_train, X_meta_train], y_train,\n",
    "    validation_data=([X_subj_test, X_msg_test, X_meta_test], y_test),\n",
    "    epochs=100,\n",
    "    batch_size=256,\n",
    "    callbacks=[early_stop, lr_scheduler],\n",
    ")\n",
    "\n",
    "with open('tokenizer_subj.pkl', 'wb') as f:\n",
    "    pickle.dump(tokenizer_subj, f)\n",
    "with open('tokenizer_msg.pkl', 'wb') as f:\n",
    "    pickle.dump(tokenizer_msg, f)"
   ]
  },
  {
   "cell_type": "markdown",
   "id": "ded2e1a4",
   "metadata": {},
   "source": [
    "# Wyniki i zapisanie modelu"
   ]
  },
  {
   "cell_type": "code",
   "execution_count": 38,
   "id": "e688443d",
   "metadata": {},
   "outputs": [
    {
     "name": "stdout",
     "output_type": "stream",
     "text": [
      "Accuracy: 0.9923526765632029\n",
      "F1-score: 0.9924410849266341\n"
     ]
    }
   ],
   "source": [
    "pred_probs = best_model.predict([X_subj_test, X_msg_test, X_meta_test], verbose=0)\n",
    "y_pred= (pred_probs > 0.5).astype(\"int32\")\n",
    "\n",
    "print(\"Accuracy:\", accuracy_score(y_test, y_pred))\n",
    "print(\"F1-score:\", classification_report(y_test, y_pred, output_dict=True)['1']['f1-score'])"
   ]
  },
  {
   "cell_type": "markdown",
   "id": "885c2dff",
   "metadata": {},
   "source": [
    "Krzywe uczenia."
   ]
  },
  {
   "cell_type": "code",
   "execution_count": 39,
   "id": "2c84d2c8",
   "metadata": {},
   "outputs": [
    {
     "data": {
      "image/png": "[encoded data removed]",
      "text/plain": [
       "<Figure size 1000x600 with 1 Axes>"
      ]
     },
     "metadata": {},
     "output_type": "display_data"
    }
   ],
   "source": [
    "loss = history.history['loss']\n",
    "val_loss = history.history['val_loss']\n",
    "epochs = range(1, len(loss) + 1)\n",
    "\n",
    "plt.figure(figsize=(10, 6))\n",
    "plt.plot(epochs, loss, 'b-', label='Training loss')\n",
    "plt.plot(epochs, val_loss, 'r-', label='Validation loss')\n",
    "plt.xlabel('Epochs')\n",
    "plt.ylabel('Loss')\n",
    "plt.title('Learning Curves')\n",
    "plt.legend()\n",
    "plt.grid(True)\n",
    "plt.show()"
   ]
  },
  {
   "cell_type": "markdown",
   "id": "d65b337b",
   "metadata": {},
   "source": [
    "Mapa termiczna macierzy pomyłek."
   ]
  },
  {
   "cell_type": "code",
   "execution_count": 40,
   "id": "48959e64",
   "metadata": {},
   "outputs": [
    {
     "data": {
      "image/png": "[encoded data removed]",
      "text/plain": [
       "<Figure size 600x500 with 1 Axes>"
      ]
     },
     "metadata": {},
     "output_type": "display_data"
    }
   ],
   "source": [
    "y_pred_classes = (y_pred > 0.5).astype(int)\n",
    "\n",
    "cm = confusion_matrix(y_test, y_pred_classes)\n",
    "\n",
    "plt.figure(figsize=(6, 5))\n",
    "sns.heatmap(cm, annot=True, fmt='d', cmap='Reds', cbar=False,\n",
    "            xticklabels=['Not Spam', 'Spam'],\n",
    "            yticklabels=['Not Spam', 'Spam'])\n",
    "plt.xlabel('Predicted Label')\n",
    "plt.ylabel('Actual Label')\n",
    "plt.title('Confusion Matrix Heatmap')\n",
    "plt.tight_layout()\n",
    "plt.show()"
   ]
  },
  {
   "cell_type": "code",
   "execution_count": 51,
   "id": "2d4cc0aa",
   "metadata": {},
   "outputs": [
    {
     "name": "stdout",
     "output_type": "stream",
     "text": [
      "Spadek accuracy po wymieszaniu:\n",
      "Cechа 0: 0.0085\n",
      "Cechа 1: 0.0007\n",
      "Cechа 2: 0.0003\n",
      "Cechа 3: 0.0031\n"
     ]
    }
   ],
   "source": [
    "X_meta_val = X_meta_test.copy()\n",
    "base_score = best_model.evaluate([X_subj_test, X_msg_test, X_meta_val], y_test, verbose=0)[1]\n",
    "print(\"Spadek accuracy po wymieszaniu:\")\n",
    "for i in range(X_meta_val.shape[1]):\n",
    "    X_permuted = X_meta_val.copy()\n",
    "    np.random.shuffle(X_permuted[:, i])\n",
    "    score = best_model.evaluate([X_subj_test, X_msg_test, X_permuted], y_test, verbose=0)[1]\n",
    "    print(f\"Cechа {i}: {base_score - score:.4f}\")"
   ]
  },
  {
   "cell_type": "markdown",
   "id": "d40317cb",
   "metadata": {},
   "source": [
    "Zapisujemy model."
   ]
  },
  {
   "cell_type": "code",
   "execution_count": 41,
   "id": "a60e17ff",
   "metadata": {},
   "outputs": [],
   "source": [
    "best_model.save(\"spam_detector.h5\")"
   ]
  }
 ],
 "metadata": {
  "kernelspec": {
   "display_name": "Python 3",
   "language": "python",
   "name": "python3"
  },
  "language_info": {
   "codemirror_mode": {
    "name": "ipython",
    "version": 3
   },
   "file_extension": ".py",
   "mimetype": "text/x-python",
   "name": "python",
   "nbconvert_exporter": "python",
   "pygments_lexer": "ipython3",
   "version": "3.10.11"
  }
 },
 "nbformat": 4,
 "nbformat_minor": 5
}
